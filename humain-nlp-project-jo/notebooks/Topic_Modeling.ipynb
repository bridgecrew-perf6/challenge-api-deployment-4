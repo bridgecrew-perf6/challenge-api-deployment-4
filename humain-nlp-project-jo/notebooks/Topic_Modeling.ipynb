{
 "cells": [
  {
   "cell_type": "markdown",
   "metadata": {},
   "source": [
    "### import packages"
   ]
  },
  {
   "cell_type": "code",
   "execution_count": 59,
   "metadata": {},
   "outputs": [],
   "source": [
    "#import required packages\n",
    "import pandas as pd\n",
    "import gensim\n",
    "# NLTK Stop words\n",
    "import pyLDAvis\n",
    "from nltk.corpus import stopwords\n",
    "import pickle\n",
    "stop_words = stopwords.words('english')\n",
    "from gensim import corpora\n",
    "# Import Dataset\n",
    "from gensim.utils import simple_preprocess\n",
    "import pyLDAvis\n",
    "import pyLDAvis.gensim\n",
    "import spacy\n",
    "import nltk\n",
    "import numpy as np\n",
    "from sklearn.model_selection import KFold\n",
    "from sklearn.preprocessing import StandardScaler\n",
    "from sklearn.linear_model import LogisticRegression\n",
    "from sklearn.svm import SVC\n",
    "from sklearn.metrics import f1_score\n",
    "from sklearn.linear_model import SGDClassifier\n",
    "from sklearn import linear_model"
   ]
  },
  {
   "cell_type": "code",
   "execution_count": 10,
   "metadata": {},
   "outputs": [],
   "source": [
    "# loads pipeline package for Language model (English)\n",
    "nlp = spacy.load(\"en_core_web_sm\")"
   ]
  },
  {
   "cell_type": "code",
   "execution_count": 11,
   "metadata": {},
   "outputs": [
    {
     "name": "stderr",
     "output_type": "stream",
     "text": [
      "C:\\Users\\manasa\\anaconda3\\lib\\site-packages\\ipykernel_launcher.py:2: FutureWarning: Passing a negative integer is deprecated in version 1.0 and will not be supported in future version. Instead, use None to not limit the column width.\n",
      "  \n"
     ]
    }
   ],
   "source": [
    "#seting the maximum column width to display all columns\n",
    "pd.set_option('display.max_colwidth',-1)"
   ]
  },
  {
   "cell_type": "markdown",
   "metadata": {},
   "source": [
    "### read json file"
   ]
  },
  {
   "cell_type": "code",
   "execution_count": 12,
   "metadata": {},
   "outputs": [],
   "source": [
    "#loads json file\n",
    "jsn=json.loads(open('data/case_data.json').read())"
   ]
  },
  {
   "cell_type": "code",
   "execution_count": 13,
   "metadata": {},
   "outputs": [],
   "source": [
    " #converts json to dataframe\n",
    "data=pd.DataFrame.from_dict(pd.json_normalize(jsn,'data'))"
   ]
  },
  {
   "cell_type": "code",
   "execution_count": 14,
   "metadata": {},
   "outputs": [
    {
     "data": {
      "text/html": [
       "<div>\n",
       "<style scoped>\n",
       "    .dataframe tbody tr th:only-of-type {\n",
       "        vertical-align: middle;\n",
       "    }\n",
       "\n",
       "    .dataframe tbody tr th {\n",
       "        vertical-align: top;\n",
       "    }\n",
       "\n",
       "    .dataframe thead th {\n",
       "        text-align: right;\n",
       "    }\n",
       "</style>\n",
       "<table border=\"1\" class=\"dataframe\">\n",
       "  <thead>\n",
       "    <tr style=\"text-align: right;\">\n",
       "      <th></th>\n",
       "      <th>id</th>\n",
       "      <th>name</th>\n",
       "      <th>description</th>\n",
       "      <th>metrics</th>\n",
       "      <th>industries</th>\n",
       "      <th>created_at</th>\n",
       "      <th>updated_at</th>\n",
       "      <th>function</th>\n",
       "    </tr>\n",
       "  </thead>\n",
       "  <tbody>\n",
       "    <tr>\n",
       "      <th>0</th>\n",
       "      <td>493</td>\n",
       "      <td>Retargeting</td>\n",
       "      <td>Retarget customers who have already expressed interest in your products or services</td>\n",
       "      <td>Cash flow\\nReturn on marketing investment (ROMI)</td>\n",
       "      <td>Broadcasting\\nFilm Distribution\\nMedia and Entertainment\\nEnterprise Software\\nFinTech\\nBanking\\nFinancial Services\\nArt\\nHome Decor\\nFashion\\nE-Commerce\\nRecruiting\\nDelivery\\nFood and Beverage\\nE-Commerce\\nFood Processing\\nLifestyle\\nDietary Supplements\\nE-Commerce\\nAI Tools\\nSupply Chain Management\\nMarketplace\\nAnalytics\\nB2B\\nImage Recognition\\nDigital Media\\nPhotography\\nPredictive Analytics\\nSEO\\nAdvertising\\nDirect Marketing\\nEmail Marketing\\nE-Commerce\\nAnalytics\\nEvents\\nTicketing\\nInternet\\nTravel\\nFashion\\nShopping\\nE-Commerce\\nLifestyle\\nFurniture\\nFashion\\nE-Commerce\\nFashion\\nE-Commerce\\nFitness\\nCooking\\nHospitality\\nMobile\\nPersonalization\\nFashion\\nE-Commerce\\nJewelry\\nLifestyle\\nCustomer Service\\nRetail Technology\\nInternet\\nE-Commerce\\nFashion\\nManufacturing\\nInternet\\nE-Commerce\\nRetail\\nTelecommunications\\nRetail\\nMobile Devices\\nCustomer Service\\nLifestyle\\nFashion\\nRetail Technology\\nSoftware Solutions\\nE-Commerce\\nRetail\\nRetail\\nOpen Source\\nSoftware Solutions\\nHardware\\nDIY\\n3D Printing\\nReal Estate\\nClassifieds\\nE-Commerce\\nNews</td>\n",
       "      <td>2020-02-03T15:08:21.159Z</td>\n",
       "      <td>2020-02-03T15:08:21.159Z</td>\n",
       "      <td>Marketing</td>\n",
       "    </tr>\n",
       "    <tr>\n",
       "      <th>1</th>\n",
       "      <td>494</td>\n",
       "      <td>Recommendation engine</td>\n",
       "      <td>Also called recommendation personalization system or recommendation system, these systems leverage customer data to retain and upgrade customers with personalized recommendations via email, site search or other channels</td>\n",
       "      <td>Cash flow\\nReturn on marketing investment (ROMI)\\nEngagement &amp; conversion\\nB2C sales</td>\n",
       "      <td>Search Engine\\nRetail\\nShopping\\nE-Commerce\\nLifestyle\\nFashion\\nRetail\\nFashion\\nWomen's\\nBeauty\\nCosmetics\\nRetail\\nE-Commerce\\nFashion</td>\n",
       "      <td>2020-02-03T15:08:21.212Z</td>\n",
       "      <td>2020-02-03T15:08:21.212Z</td>\n",
       "      <td>Marketing</td>\n",
       "    </tr>\n",
       "    <tr>\n",
       "      <th>2</th>\n",
       "      <td>495</td>\n",
       "      <td>Social analytics &amp; automation</td>\n",
       "      <td>Leverage Natural Language Processing and machine vision to analyze and act upon all content generated by your actual or potential customers on social media, surveys and reviews</td>\n",
       "      <td>Customer service effectiveness\\nNet Promoter Score (NPS)</td>\n",
       "      <td>Cloud Computing\\nSoftware Solutions\\nInformation Technology\\nWeb Hosting\\nIaaS\\nManufacturing\\nAutomotive\\nTransportation\\nVenture Capital\\nFinance\\nAngel Investment\\nSocial Media\\nMarketing\\nAdvertising\\nBusiness Information Systems\\nBusiness Intelligence\\nInternet\\nAdvertising\\nTest and Measurement\\nVending and Concessions</td>\n",
       "      <td>2020-02-03T15:08:21.249Z</td>\n",
       "      <td>2020-02-03T15:08:21.249Z</td>\n",
       "      <td>Marketing</td>\n",
       "    </tr>\n",
       "    <tr>\n",
       "      <th>3</th>\n",
       "      <td>496</td>\n",
       "      <td>Product Information Management</td>\n",
       "      <td>Manage and improve all your product information centrally to improve product discoverability and appeal</td>\n",
       "      <td>Return on marketing investment (ROMI)</td>\n",
       "      <td>Communications Infrastructure\\nHardware\\nEnterprise Software\\nVenture Capital\\nFinance\\nAngel Investment\\nE-Commerce Platforms\\nFashion\\nBeauty\\nRetail\\nE-Commerce\\nRetail Technology</td>\n",
       "      <td>2020-02-03T15:08:21.270Z</td>\n",
       "      <td>2020-02-03T15:08:21.270Z</td>\n",
       "      <td>Marketing</td>\n",
       "    </tr>\n",
       "  </tbody>\n",
       "</table>\n",
       "</div>"
      ],
      "text/plain": [
       "    id                            name  \\\n",
       "0  493  Retargeting                      \n",
       "1  494  Recommendation engine            \n",
       "2  495  Social analytics & automation    \n",
       "3  496  Product Information Management   \n",
       "\n",
       "                                                                                                                                                                                                                   description  \\\n",
       "0  Retarget customers who have already expressed interest in your products or services                                                                                                                                           \n",
       "1  Also called recommendation personalization system or recommendation system, these systems leverage customer data to retain and upgrade customers with personalized recommendations via email, site search or other channels   \n",
       "2  Leverage Natural Language Processing and machine vision to analyze and act upon all content generated by your actual or potential customers on social media, surveys and reviews                                              \n",
       "3  Manage and improve all your product information centrally to improve product discoverability and appeal                                                                                                                       \n",
       "\n",
       "                                                                                metrics  \\\n",
       "0  Cash flow\\nReturn on marketing investment (ROMI)                                       \n",
       "1  Cash flow\\nReturn on marketing investment (ROMI)\\nEngagement & conversion\\nB2C sales   \n",
       "2  Customer service effectiveness\\nNet Promoter Score (NPS)                               \n",
       "3  Return on marketing investment (ROMI)                                                  \n",
       "\n",
       "                                                                                                                                                                                                                                                                                                                                                                                                                                                                                                                                                                                                                                                                                                                                                                                                                                                                                                                                                                                                                                                                                                         industries  \\\n",
       "0  Broadcasting\\nFilm Distribution\\nMedia and Entertainment\\nEnterprise Software\\nFinTech\\nBanking\\nFinancial Services\\nArt\\nHome Decor\\nFashion\\nE-Commerce\\nRecruiting\\nDelivery\\nFood and Beverage\\nE-Commerce\\nFood Processing\\nLifestyle\\nDietary Supplements\\nE-Commerce\\nAI Tools\\nSupply Chain Management\\nMarketplace\\nAnalytics\\nB2B\\nImage Recognition\\nDigital Media\\nPhotography\\nPredictive Analytics\\nSEO\\nAdvertising\\nDirect Marketing\\nEmail Marketing\\nE-Commerce\\nAnalytics\\nEvents\\nTicketing\\nInternet\\nTravel\\nFashion\\nShopping\\nE-Commerce\\nLifestyle\\nFurniture\\nFashion\\nE-Commerce\\nFashion\\nE-Commerce\\nFitness\\nCooking\\nHospitality\\nMobile\\nPersonalization\\nFashion\\nE-Commerce\\nJewelry\\nLifestyle\\nCustomer Service\\nRetail Technology\\nInternet\\nE-Commerce\\nFashion\\nManufacturing\\nInternet\\nE-Commerce\\nRetail\\nTelecommunications\\nRetail\\nMobile Devices\\nCustomer Service\\nLifestyle\\nFashion\\nRetail Technology\\nSoftware Solutions\\nE-Commerce\\nRetail\\nRetail\\nOpen Source\\nSoftware Solutions\\nHardware\\nDIY\\n3D Printing\\nReal Estate\\nClassifieds\\nE-Commerce\\nNews   \n",
       "1  Search Engine\\nRetail\\nShopping\\nE-Commerce\\nLifestyle\\nFashion\\nRetail\\nFashion\\nWomen's\\nBeauty\\nCosmetics\\nRetail\\nE-Commerce\\nFashion                                                                                                                                                                                                                                                                                                                                                                                                                                                                                                                                                                                                                                                                                                                                                                                                                                                                                                                                                                          \n",
       "2  Cloud Computing\\nSoftware Solutions\\nInformation Technology\\nWeb Hosting\\nIaaS\\nManufacturing\\nAutomotive\\nTransportation\\nVenture Capital\\nFinance\\nAngel Investment\\nSocial Media\\nMarketing\\nAdvertising\\nBusiness Information Systems\\nBusiness Intelligence\\nInternet\\nAdvertising\\nTest and Measurement\\nVending and Concessions                                                                                                                                                                                                                                                                                                                                                                                                                                                                                                                                                                                                                                                                                                                                                                             \n",
       "3  Communications Infrastructure\\nHardware\\nEnterprise Software\\nVenture Capital\\nFinance\\nAngel Investment\\nE-Commerce Platforms\\nFashion\\nBeauty\\nRetail\\nE-Commerce\\nRetail Technology                                                                                                                                                                                                                                                                                                                                                                                                                                                                                                                                                                                                                                                                                                                                                                                                                                                                                                                             \n",
       "\n",
       "                 created_at                updated_at   function  \n",
       "0  2020-02-03T15:08:21.159Z  2020-02-03T15:08:21.159Z  Marketing  \n",
       "1  2020-02-03T15:08:21.212Z  2020-02-03T15:08:21.212Z  Marketing  \n",
       "2  2020-02-03T15:08:21.249Z  2020-02-03T15:08:21.249Z  Marketing  \n",
       "3  2020-02-03T15:08:21.270Z  2020-02-03T15:08:21.270Z  Marketing  "
      ]
     },
     "execution_count": 14,
     "metadata": {},
     "output_type": "execute_result"
    }
   ],
   "source": [
    "#display first 4 rows\n",
    "data.head(4)"
   ]
  },
  {
   "cell_type": "code",
   "execution_count": 15,
   "metadata": {},
   "outputs": [],
   "source": [
    "#convert series to list\n",
    "data_list=list(data.loc[:,'description'].values)"
   ]
  },
  {
   "cell_type": "code",
   "execution_count": 16,
   "metadata": {},
   "outputs": [
    {
     "data": {
      "text/plain": [
       "(122, 8)"
      ]
     },
     "execution_count": 16,
     "metadata": {},
     "output_type": "execute_result"
    }
   ],
   "source": [
    "#check the number of features\n",
    "data.shape"
   ]
  },
  {
   "cell_type": "markdown",
   "metadata": {},
   "source": [
    "### training 'description' feature to find the target"
   ]
  },
  {
   "cell_type": "code",
   "execution_count": 17,
   "metadata": {},
   "outputs": [],
   "source": [
    "#copy of data\n",
    "X=data.copy()\n",
    "#process description feature to find the target\n",
    "X=X['description']#,'name','industries','metrics']]"
   ]
  },
  {
   "cell_type": "markdown",
   "metadata": {},
   "source": [
    "### stop words  (NLTK)"
   ]
  },
  {
   "cell_type": "code",
   "execution_count": 18,
   "metadata": {},
   "outputs": [],
   "source": [
    "def strip_newline(series):\n",
    "    return [review.replace('\\n','') for review in series]\n",
    "\n",
    "def sent_to_words(sentences):\n",
    "    \n",
    "    for sentence in sentences:\n",
    "        yield(gensim.utils.simple_preprocess(str(sentence), deacc=True))\n",
    "        \n",
    "def remove_stopwords(texts):\n",
    "    return [[word for word in simple_preprocess(str(doc)) if word not in stop_words] for doc in texts]\n",
    "\n",
    "def bigrams(words, bi_min=15, tri_min=10):\n",
    "    bigram = gensim.models.Phrases(words, min_count = bi_min)\n",
    "    bigram_mod = gensim.models.phrases.Phraser(bigram)\n",
    "    return bigram_mod"
   ]
  },
  {
   "cell_type": "code",
   "execution_count": 19,
   "metadata": {},
   "outputs": [],
   "source": [
    "from nltk.corpus import stopwords\n",
    "stop_words = stopwords.words('english')\n",
    "stop_words.extend(['come','order','try','go','get','make','drink','plate','dish','restaurant','place',\n",
    "                  'would','really','like','great','service','came','got'])\n",
    "\n",
    "def remove_stopwords(texts):\n",
    "    return [[word for word in simple_preprocess(str(doc)) if word not in stop_words] for doc in texts]\n",
    "\n",
    "def bigrams(words, bi_min=15, tri_min=10):\n",
    "    bigram = gensim.models.Phrases(words, min_count = bi_min)\n",
    "    bigram_mod = gensim.models.phrases.Phraser(bigram)\n",
    "    return bigram_mod\n",
    "    \n",
    "def get_corpus(df):\n",
    "    df['text'] = strip_newline(df)\n",
    "    words = list(sent_to_words(df.text))\n",
    "    words = remove_stopwords(words)\n",
    "    bigram_mod = bigrams(words)\n",
    "    bigram = [bigram_mod[review] for review in words]\n",
    "    id2word = gensim.corpora.Dictionary(bigram)\n",
    "    id2word.filter_extremes(no_below=10, no_above=0.35)\n",
    "    id2word.compactify()\n",
    "    corpus = [id2word.doc2bow(text) for text in bigram]\n",
    "    return corpus, id2word, bigram\n",
    "\n",
    "train_corpus, train_id2word, bigram_train = get_corpus(X)\n"
   ]
  },
  {
   "cell_type": "markdown",
   "metadata": {},
   "source": [
    "### creating a models for corpus, bigrams, bag of words"
   ]
  },
  {
   "cell_type": "code",
   "execution_count": 20,
   "metadata": {},
   "outputs": [],
   "source": [
    "\n",
    "with open('train_corpus.pkl', 'wb') as f:\n",
    "    pickle.dump(train_corpus, f)\n",
    "with open('train_id2word.pkl', 'wb') as f:\n",
    "    pickle.dump(train_id2word, f)\n",
    "with open('bigram_train.pkl', 'wb') as f:\n",
    "    pickle.dump(bigram_train, f)\n"
   ]
  },
  {
   "cell_type": "code",
   "execution_count": 21,
   "metadata": {},
   "outputs": [],
   "source": [
    "with open('train_corpus.pkl', 'rb') as f:\n",
    "    train_corpus = pickle.load(f)\n",
    "with open('train_id2word.pkl', 'rb') as f:\n",
    "    train_id2word = pickle.load(f)\n",
    "with open('bigram_train.pkl', 'rb') as f:\n",
    "    bigram_train = pickle.load(f)"
   ]
  },
  {
   "cell_type": "markdown",
   "metadata": {},
   "source": [
    "### LDA Model"
   ]
  },
  {
   "cell_type": "code",
   "execution_count": 237,
   "metadata": {},
   "outputs": [],
   "source": [
    "import logging\n",
    "import warnings\n",
    "logging.basicConfig(filename='lda_model.log', format='%(asctime)s : %(levelname)s : %(message)s', level=logging.INFO)\n",
    "num_topics=20\n",
    "with warnings.catch_warnings():\n",
    "    warnings.simplefilter('ignore')\n",
    "    lda_train = gensim.models.ldamulticore.LdaMulticore(\n",
    "                           corpus=train_corpus,\n",
    "                           \n",
    "                           id2word=train_id2word,\n",
    "                           chunksize=100,\n",
    "                           workers=7, # Num. Processing Cores - 1\n",
    "                           passes=50,\n",
    "                           eval_every = 1,\n",
    "                           per_word_topics=True,\n",
    "                           alpha=[0.01]*100,eta=[0.01]*len(train_id2word.keys()))\n",
    "    lda_train.save('lda_train.model')"
   ]
  },
  {
   "cell_type": "markdown",
   "metadata": {},
   "source": [
    "### traning on LDA model"
   ]
  },
  {
   "cell_type": "code",
   "execution_count": 238,
   "metadata": {},
   "outputs": [
    {
     "name": "stdout",
     "output_type": "stream",
     "text": [
      "dict_keys(['and', 'churn', 'customers/clients', 'for', 'individual', 'of', 'predict', 'recommend', 'renegotiation', 'risk', 'strategy'])\n"
     ]
    }
   ],
   "source": [
    "query = 'Predict risk of churn for individual customers/clients and recommend  renegotiation strategy '\n",
    "vec_bow = train_id2word.doc2bow(query.lower().split(),return_missing=True)\n",
    "print(vec_bow[1].keys())\n"
   ]
  },
  {
   "cell_type": "code",
   "execution_count": 239,
   "metadata": {},
   "outputs": [],
   "source": [
    "train_vecs = []\n",
    "for i in range(len(X)-1):\n",
    "    top_topics = lda_train.get_document_topics(train_corpus[i], minimum_probability=0.0)\n",
    "    topic_vec = [top_topics[i][1] for i in range(20)]\n",
    "    #topic_vec.extend([rev_train.iloc[i].real_counts]) \n",
    "    #topic_vec.extend([len(X.iloc[i].text)]) \n",
    "    train_vecs.append(topic_vec)"
   ]
  },
  {
   "cell_type": "code",
   "execution_count": 240,
   "metadata": {},
   "outputs": [
    {
     "name": "stderr",
     "output_type": "stream",
     "text": [
      "C:\\Users\\manasa\\anaconda3\\lib\\site-packages\\scipy\\optimize\\linesearch.py:327: LineSearchWarning: The line search algorithm did not converge\n",
      "  warn('The line search algorithm did not converge', LineSearchWarning)\n",
      "C:\\Users\\manasa\\anaconda3\\lib\\site-packages\\sklearn\\utils\\optimize.py:195: UserWarning: Line Search failed\n",
      "  warnings.warn('Line Search failed')\n",
      "C:\\Users\\manasa\\anaconda3\\lib\\site-packages\\scipy\\optimize\\linesearch.py:327: LineSearchWarning: The line search algorithm did not converge\n",
      "  warn('The line search algorithm did not converge', LineSearchWarning)\n",
      "C:\\Users\\manasa\\anaconda3\\lib\\site-packages\\sklearn\\utils\\optimize.py:195: UserWarning: Line Search failed\n",
      "  warnings.warn('Line Search failed')\n"
     ]
    },
    {
     "name": "stdout",
     "output_type": "stream",
     "text": [
      "Logistic Regression Val f1: 0.254 +- 0.076\n",
      "Logisitic Regression SGD Val f1: 0.230 +- 0.036\n",
      "SVM Huber Val f1: 0.157 +- 0.097\n"
     ]
    },
    {
     "name": "stderr",
     "output_type": "stream",
     "text": [
      "C:\\Users\\manasa\\anaconda3\\lib\\site-packages\\scipy\\optimize\\linesearch.py:327: LineSearchWarning: The line search algorithm did not converge\n",
      "  warn('The line search algorithm did not converge', LineSearchWarning)\n",
      "C:\\Users\\manasa\\anaconda3\\lib\\site-packages\\sklearn\\utils\\optimize.py:195: UserWarning: Line Search failed\n",
      "  warnings.warn('Line Search failed')\n"
     ]
    }
   ],
   "source": [
    "x = np.array(train_vecs)\n",
    "y = np.array(data['function'])\n",
    "\n",
    "kf = KFold(5, shuffle=True, random_state=42)\n",
    "cv_lr_f1, cv_lrsgd_f1, cv_svcsgd_f1,  = [], [], []\n",
    "\n",
    "for train_ind, val_ind in kf.split(x, y):\n",
    "    # Assign CV IDX\n",
    "    X_train, y_train = x[train_ind], y[train_ind]\n",
    "    X_val, y_val = x[val_ind], y[val_ind]\n",
    "    \n",
    "    # Scale Data\n",
    "    scaler = StandardScaler()\n",
    "    X_train_scale = scaler.fit_transform(X_train)\n",
    "    X_val_scale = scaler.transform(X_val)\n",
    "\n",
    "    # Logisitic Regression\n",
    "    lr = LogisticRegression(\n",
    "        class_weight= 'balanced',\n",
    "        solver='newton-cg',\n",
    "        fit_intercept=True\n",
    "    ).fit(X_train_scale, y_train)\n",
    "\n",
    "    y_pred = lr.predict(X_val_scale)\n",
    "    cv_lr_f1.append(f1_score(y_val, y_pred, average='micro'))\n",
    "    \n",
    "    # Logistic Regression SGD\n",
    "    sgd = linear_model.SGDClassifier(\n",
    "        max_iter=1000,\n",
    "        tol=1e-3,\n",
    "        loss='log',\n",
    "        class_weight='balanced'\n",
    "    ).fit(X_train_scale, y_train)\n",
    "    \n",
    "    y_pred = sgd.predict(X_val_scale)\n",
    "    cv_lrsgd_f1.append(f1_score(y_val, y_pred, average='micro'))\n",
    "    \n",
    "    # SGD Modified Huber\n",
    "    sgd_huber = linear_model.SGDClassifier(\n",
    "        max_iter=1000,\n",
    "        tol=1e-3,\n",
    "        alpha=20,\n",
    "        loss='modified_huber',\n",
    "        class_weight='balanced'\n",
    "    ).fit(X_train_scale, y_train)\n",
    "    \n",
    "    y_pred = sgd_huber.predict(X_val_scale)\n",
    "    cv_svcsgd_f1.append(f1_score(y_val, y_pred, average='micro'))\n",
    "\n",
    "print(f'Logistic Regression Val f1: {np.mean(cv_lr_f1):.3f} +- {np.std(cv_lr_f1):.3f}')\n",
    "print(f'Logisitic Regression SGD Val f1: {np.mean(cv_lrsgd_f1):.3f} +- {np.std(cv_lrsgd_f1):.3f}')\n",
    "print(f'SVM Huber Val f1: {np.mean(cv_svcsgd_f1):.3f} +- {np.std(cv_svcsgd_f1):.3f}')"
   ]
  },
  {
   "cell_type": "markdown",
   "metadata": {},
   "source": [
    "### Coherence of  LDA model"
   ]
  },
  {
   "cell_type": "code",
   "execution_count": 61,
   "metadata": {},
   "outputs": [
    {
     "data": {
      "text/plain": [
       "0.2700564599662442"
      ]
     },
     "execution_count": 61,
     "metadata": {},
     "output_type": "execute_result"
    }
   ],
   "source": [
    "from gensim.models import CoherenceModel\n",
    "coherence_model_lda = CoherenceModel(model=lda_train, texts=bigram_train, dictionary=train_id2word, coherence='c_v')\n",
    "coherence_ld = coherence_model_lda.get_coherence()\n",
    "coherence_ld"
   ]
  },
  {
   "cell_type": "markdown",
   "metadata": {},
   "source": [
    "### displaying 10 of the 20 topics with 15 top words for each"
   ]
  },
  {
   "cell_type": "code",
   "execution_count": 241,
   "metadata": {},
   "outputs": [
    {
     "data": {
      "text/plain": [
       "[(42,\n",
       "  '0.059*\"improve\" + 0.059*\"processing\" + 0.059*\"analytics\" + 0.059*\"sales\" + 0.059*\"ai\" + 0.059*\"learning\" + 0.059*\"use\" + 0.059*\"advanced\" + 0.059*\"customers\" + 0.059*\"leverage\" + 0.059*\"analyze\" + 0.059*\"data\" + 0.059*\"customer\" + 0.059*\"systems\" + 0.059*\"machine\"'),\n",
       " (85,\n",
       "  '0.059*\"data\" + 0.059*\"systems\" + 0.059*\"leverage\" + 0.059*\"sales\" + 0.059*\"customer\" + 0.059*\"use\" + 0.059*\"customers\" + 0.059*\"analyze\" + 0.059*\"learning\" + 0.059*\"analytics\" + 0.059*\"ai\" + 0.059*\"processing\" + 0.059*\"machine\" + 0.059*\"natural\" + 0.059*\"advanced\"'),\n",
       " (67,\n",
       "  '0.378*\"customer\" + 0.314*\"satisfaction\" + 0.303*\"improve\" + 0.000*\"machine\" + 0.000*\"advanced\" + 0.000*\"learning\" + 0.000*\"leverage\" + 0.000*\"data\" + 0.000*\"analytics\" + 0.000*\"sales\" + 0.000*\"ai\" + 0.000*\"customers\" + 0.000*\"systems\" + 0.000*\"analyze\" + 0.000*\"use\"'),\n",
       " (44,\n",
       "  '0.059*\"improve\" + 0.059*\"processing\" + 0.059*\"analytics\" + 0.059*\"sales\" + 0.059*\"ai\" + 0.059*\"learning\" + 0.059*\"use\" + 0.059*\"advanced\" + 0.059*\"customers\" + 0.059*\"leverage\" + 0.059*\"analyze\" + 0.059*\"data\" + 0.059*\"customer\" + 0.059*\"systems\" + 0.059*\"machine\"'),\n",
       " (63,\n",
       "  '0.059*\"improve\" + 0.059*\"processing\" + 0.059*\"analytics\" + 0.059*\"sales\" + 0.059*\"ai\" + 0.059*\"learning\" + 0.059*\"use\" + 0.059*\"advanced\" + 0.059*\"customers\" + 0.059*\"leverage\" + 0.059*\"analyze\" + 0.059*\"data\" + 0.059*\"customer\" + 0.059*\"systems\" + 0.059*\"machine\"'),\n",
       " (35,\n",
       "  '0.059*\"improve\" + 0.059*\"processing\" + 0.059*\"analytics\" + 0.059*\"sales\" + 0.059*\"ai\" + 0.059*\"learning\" + 0.059*\"use\" + 0.059*\"advanced\" + 0.059*\"customers\" + 0.059*\"leverage\" + 0.059*\"analyze\" + 0.059*\"data\" + 0.059*\"customer\" + 0.059*\"systems\" + 0.059*\"machine\"'),\n",
       " (10,\n",
       "  '0.059*\"improve\" + 0.059*\"processing\" + 0.059*\"analytics\" + 0.059*\"sales\" + 0.059*\"ai\" + 0.059*\"learning\" + 0.059*\"use\" + 0.059*\"advanced\" + 0.059*\"customers\" + 0.059*\"leverage\" + 0.059*\"analyze\" + 0.059*\"data\" + 0.059*\"customer\" + 0.059*\"systems\" + 0.059*\"machine\"'),\n",
       " (24,\n",
       "  '0.982*\"analyze\" + 0.009*\"data\" + 0.001*\"advanced\" + 0.001*\"systems\" + 0.001*\"processing\" + 0.001*\"analytics\" + 0.001*\"sales\" + 0.001*\"ai\" + 0.001*\"learning\" + 0.001*\"use\" + 0.001*\"customers\" + 0.001*\"leverage\" + 0.001*\"natural\" + 0.001*\"improve\" + 0.001*\"machine\"'),\n",
       " (69,\n",
       "  '0.059*\"improve\" + 0.059*\"processing\" + 0.059*\"analytics\" + 0.059*\"sales\" + 0.059*\"ai\" + 0.059*\"learning\" + 0.059*\"use\" + 0.059*\"advanced\" + 0.059*\"customers\" + 0.059*\"leverage\" + 0.059*\"analyze\" + 0.059*\"data\" + 0.059*\"customer\" + 0.059*\"systems\" + 0.059*\"machine\"'),\n",
       " (30,\n",
       "  '0.059*\"improve\" + 0.059*\"processing\" + 0.059*\"analytics\" + 0.059*\"sales\" + 0.059*\"ai\" + 0.059*\"learning\" + 0.059*\"use\" + 0.059*\"advanced\" + 0.059*\"customers\" + 0.059*\"leverage\" + 0.059*\"analyze\" + 0.059*\"data\" + 0.059*\"customer\" + 0.059*\"systems\" + 0.059*\"machine\"')]"
      ]
     },
     "execution_count": 241,
     "metadata": {},
     "output_type": "execute_result"
    }
   ],
   "source": [
    "lda_train.print_topics(20,num_words=15)[:10]"
   ]
  },
  {
   "cell_type": "code",
   "execution_count": 187,
   "metadata": {},
   "outputs": [
    {
     "name": "stdout",
     "output_type": "stream",
     "text": [
      "[\"('sales', 0.89380693)\", \"('customer', 0.09980079)\", \"('processing', 0.0004263404)\", \"('improve', 0.0004262475)\", \"('leverage', 0.00042624533)\", \"('systems', 0.00042624414)\", \"('data', 0.00042614664)\", \"('machine', 0.00042614664)\", \"('natural', 0.00042614664)\", \"('analytics', 0.00042614664)\", \"('advanced', 0.00042614664)\", \"('ai', 0.00042614664)\", \"('learning', 0.00042614664)\", \"('customers', 0.00042604975)\", \"('analyze', 0.00042604975)\", \"('use', 0.00042604975)\", \"('satisfaction', 0.00042604975)\"]\n",
      "\n",
      "[\"('analytics', 0.05887052)\", \"('customer', 0.05885487)\", \"('systems', 0.058850233)\", \"('advanced', 0.058842976)\", \"('improve', 0.058842976)\", \"('learning', 0.05883686)\", \"('satisfaction', 0.05882615)\", \"('customers', 0.05882349)\", \"('machine', 0.05882349)\", \"('leverage', 0.05882349)\", \"('data', 0.05881121)\", \"('analyze', 0.058810115)\", \"('use', 0.058796745)\", \"('ai', 0.058796745)\", \"('sales', 0.058796745)\", \"('natural', 0.058796745)\", \"('processing', 0.058796745)\"]\n",
      "\n",
      "[\"('sales', 0.06382648)\", \"('data', 0.06180563)\", \"('systems', 0.060411386)\", \"('leverage', 0.060061764)\", \"('customer', 0.060031574)\", \"('use', 0.058859356)\", \"('analyze', 0.058786586)\", \"('customers', 0.058757067)\", \"('learning', 0.05766978)\", \"('advanced', 0.05750779)\", \"('processing', 0.05747827)\", \"('natural', 0.05747827)\", \"('analytics', 0.057465203)\", \"('ai', 0.057465203)\", \"('machine', 0.057465203)\", \"('improve', 0.057465203)\", \"('satisfaction', 0.057465203)\"]\n",
      "\n",
      "[\"('sales', 0.06764605)\", \"('customers', 0.062639505)\", \"('systems', 0.06018233)\", \"('data', 0.06014933)\", \"('processing', 0.057692163)\", \"('leverage', 0.05766256)\", \"('natural', 0.05765917)\", \"('advanced', 0.057646062)\", \"('use', 0.057646062)\", \"('ai', 0.057646062)\", \"('analyze', 0.057632957)\", \"('machine', 0.057632957)\", \"('analytics', 0.057632957)\", \"('improve', 0.057632957)\", \"('learning', 0.057632957)\", \"('customer', 0.057632957)\", \"('satisfaction', 0.057632957)\"]\n",
      "\n",
      "[\"('improve', 0.9804082)\", \"('customers', 0.0012268149)\", \"('sales', 0.0012259295)\", \"('satisfaction', 0.0012250531)\", \"('customer', 0.0012249347)\", \"('ai', 0.0012245642)\", \"('analytics', 0.0012242873)\", \"('systems', 0.0012240075)\", \"('analyze', 0.0012240075)\", \"('machine', 0.0012240075)\", \"('natural', 0.0012240075)\", \"('data', 0.0012240075)\", \"('advanced', 0.0012240075)\", \"('use', 0.0012240075)\", \"('learning', 0.0012240075)\", \"('leverage', 0.0012240075)\", \"('processing', 0.0012240075)\"]\n",
      "\n",
      "[\"('analyze', 0.98243386)\", \"('data', 0.008251359)\", \"('leverage', 0.0006212729)\", \"('machine', 0.0006211316)\", \"('ai', 0.0006210723)\", \"('learning', 0.0006210723)\", \"('customers', 0.00062093104)\", \"('sales', 0.00062093104)\", \"('use', 0.00062093104)\", \"('advanced', 0.00062093104)\", \"('processing', 0.00062093104)\", \"('analytics', 0.00062093104)\", \"('natural', 0.00062093104)\", \"('systems', 0.00062093104)\", \"('customer', 0.00062093104)\", \"('improve', 0.00062093104)\", \"('satisfaction', 0.00062093104)\"]\n",
      "\n",
      "[\"('ai', 0.7554611)\", \"('use', 0.23571996)\", \"('data', 0.00058912276)\", \"('customers', 0.0005878382)\", \"('sales', 0.0005878382)\", \"('learning', 0.0005878382)\", \"('advanced', 0.0005878382)\", \"('improve', 0.0005878382)\", \"('processing', 0.0005878382)\", \"('natural', 0.0005878382)\", \"('machine', 0.0005878382)\", \"('analyze', 0.0005878382)\", \"('systems', 0.0005878382)\", \"('leverage', 0.0005878382)\", \"('customer', 0.0005878382)\", \"('analytics', 0.0005878382)\", \"('satisfaction', 0.0005878382)\"]\n",
      "\n",
      "[\"('customer', 0.4903017)\", \"('satisfaction', 0.2928856)\", \"('improve', 0.21308275)\", \"('advanced', 0.00027026903)\", \"('analyze', 0.00026675325)\", \"('data', 0.00026667755)\", \"('sales', 0.00026602295)\", \"('ai', 0.00026602295)\", \"('learning', 0.00026602295)\", \"('use', 0.00026602295)\", \"('customers', 0.00026602295)\", \"('natural', 0.00026602295)\", \"('machine', 0.00026602295)\", \"('systems', 0.00026602295)\", \"('leverage', 0.00026602295)\", \"('analytics', 0.00026602295)\", \"('processing', 0.00026602295)\"]\n",
      "\n",
      "[\"('sales', 0.83882385)\", \"('analytics', 0.14325503)\", \"('data', 0.0012143864)\", \"('advanced', 0.001211772)\", \"('learning', 0.0011920882)\", \"('analyze', 0.0011920882)\", \"('machine', 0.0011920882)\", \"('use', 0.0011920882)\", \"('improve', 0.0011920882)\", \"('customers', 0.0011918171)\", \"('ai', 0.0011918171)\", \"('processing', 0.0011918171)\", \"('systems', 0.0011918171)\", \"('leverage', 0.0011918171)\", \"('customer', 0.0011918171)\", \"('natural', 0.0011918171)\", \"('satisfaction', 0.0011918171)\"]\n",
      "\n",
      "[\"('use', 0.86986434)\", \"('analyze', 0.11562709)\", \"('improve', 0.00097578816)\", \"('learning', 0.00097284233)\", \"('machine', 0.0009718809)\", \"('ai', 0.00096707896)\", \"('leverage', 0.0009657692)\", \"('systems', 0.00096568617)\", \"('sales', 0.00096568605)\", \"('customers', 0.0009654665)\", \"('processing', 0.0009654665)\", \"('analytics', 0.0009654665)\", \"('natural', 0.0009654665)\", \"('data', 0.0009654665)\", \"('customer', 0.0009654665)\", \"('advanced', 0.0009654665)\", \"('satisfaction', 0.0009654665)\"]\n",
      "\n"
     ]
    },
    {
     "name": "stderr",
     "output_type": "stream",
     "text": [
      "C:\\Users\\manasa\\anaconda3\\lib\\site-packages\\ipykernel_launcher.py:2: VisibleDeprecationWarning: Creating an ndarray from ragged nested sequences (which is a list-or-tuple of lists-or-tuples-or ndarrays with different lengths or shapes) is deprecated. If you meant to do this, you must specify 'dtype=object' when creating the ndarray\n",
      "  \n"
     ]
    }
   ],
   "source": [
    "topics_matrix = lda_train.show_topics(formatted=False, num_words=20)\n",
    "topics_matrix = np.array(topics_matrix)\n",
    "\n",
    "topic_words = topics_matrix[:,1]\n",
    "for i in topic_words:\n",
    "    print([str(word) for word in i])\n",
    "    print()"
   ]
  },
  {
   "cell_type": "code",
   "execution_count": 244,
   "metadata": {},
   "outputs": [],
   "source": [
    "topic_w={}\n",
    "for topic_word in topic_words:\n",
    "    topic_word=dict(topic_word)\n",
    "    topic_w.update(topic_word)\n",
    "topic_words_df=pd.DataFrame(topic_w.items(),columns=['word','probability'])"
   ]
  },
  {
   "cell_type": "code",
   "execution_count": 245,
   "metadata": {},
   "outputs": [
    {
     "data": {
      "text/html": [
       "<div>\n",
       "<style scoped>\n",
       "    .dataframe tbody tr th:only-of-type {\n",
       "        vertical-align: middle;\n",
       "    }\n",
       "\n",
       "    .dataframe tbody tr th {\n",
       "        vertical-align: top;\n",
       "    }\n",
       "\n",
       "    .dataframe thead th {\n",
       "        text-align: right;\n",
       "    }\n",
       "</style>\n",
       "<table border=\"1\" class=\"dataframe\">\n",
       "  <thead>\n",
       "    <tr style=\"text-align: right;\">\n",
       "      <th></th>\n",
       "      <th>word</th>\n",
       "      <th>probability</th>\n",
       "    </tr>\n",
       "  </thead>\n",
       "  <tbody>\n",
       "    <tr>\n",
       "      <th>0</th>\n",
       "      <td>sales</td>\n",
       "      <td>0.000966</td>\n",
       "    </tr>\n",
       "    <tr>\n",
       "      <th>1</th>\n",
       "      <td>customer</td>\n",
       "      <td>0.000965</td>\n",
       "    </tr>\n",
       "    <tr>\n",
       "      <th>2</th>\n",
       "      <td>processing</td>\n",
       "      <td>0.000965</td>\n",
       "    </tr>\n",
       "    <tr>\n",
       "      <th>3</th>\n",
       "      <td>improve</td>\n",
       "      <td>0.000976</td>\n",
       "    </tr>\n",
       "    <tr>\n",
       "      <th>4</th>\n",
       "      <td>leverage</td>\n",
       "      <td>0.000966</td>\n",
       "    </tr>\n",
       "    <tr>\n",
       "      <th>5</th>\n",
       "      <td>systems</td>\n",
       "      <td>0.000966</td>\n",
       "    </tr>\n",
       "    <tr>\n",
       "      <th>6</th>\n",
       "      <td>data</td>\n",
       "      <td>0.000965</td>\n",
       "    </tr>\n",
       "    <tr>\n",
       "      <th>7</th>\n",
       "      <td>machine</td>\n",
       "      <td>0.000972</td>\n",
       "    </tr>\n",
       "    <tr>\n",
       "      <th>8</th>\n",
       "      <td>natural</td>\n",
       "      <td>0.000965</td>\n",
       "    </tr>\n",
       "    <tr>\n",
       "      <th>9</th>\n",
       "      <td>analytics</td>\n",
       "      <td>0.000965</td>\n",
       "    </tr>\n",
       "    <tr>\n",
       "      <th>10</th>\n",
       "      <td>advanced</td>\n",
       "      <td>0.000965</td>\n",
       "    </tr>\n",
       "    <tr>\n",
       "      <th>11</th>\n",
       "      <td>ai</td>\n",
       "      <td>0.000967</td>\n",
       "    </tr>\n",
       "    <tr>\n",
       "      <th>12</th>\n",
       "      <td>learning</td>\n",
       "      <td>0.000973</td>\n",
       "    </tr>\n",
       "    <tr>\n",
       "      <th>13</th>\n",
       "      <td>customers</td>\n",
       "      <td>0.000965</td>\n",
       "    </tr>\n",
       "    <tr>\n",
       "      <th>14</th>\n",
       "      <td>analyze</td>\n",
       "      <td>0.115627</td>\n",
       "    </tr>\n",
       "    <tr>\n",
       "      <th>15</th>\n",
       "      <td>use</td>\n",
       "      <td>0.869864</td>\n",
       "    </tr>\n",
       "    <tr>\n",
       "      <th>16</th>\n",
       "      <td>satisfaction</td>\n",
       "      <td>0.000965</td>\n",
       "    </tr>\n",
       "  </tbody>\n",
       "</table>\n",
       "</div>"
      ],
      "text/plain": [
       "            word  probability\n",
       "0   sales         0.000966   \n",
       "1   customer      0.000965   \n",
       "2   processing    0.000965   \n",
       "3   improve       0.000976   \n",
       "4   leverage      0.000966   \n",
       "5   systems       0.000966   \n",
       "6   data          0.000965   \n",
       "7   machine       0.000972   \n",
       "8   natural       0.000965   \n",
       "9   analytics     0.000965   \n",
       "10  advanced      0.000965   \n",
       "11  ai            0.000967   \n",
       "12  learning      0.000973   \n",
       "13  customers     0.000965   \n",
       "14  analyze       0.115627   \n",
       "15  use           0.869864   \n",
       "16  satisfaction  0.000965   "
      ]
     },
     "execution_count": 245,
     "metadata": {},
     "output_type": "execute_result"
    }
   ],
   "source": [
    "topic_words_df"
   ]
  },
  {
   "cell_type": "code",
   "execution_count": 190,
   "metadata": {},
   "outputs": [
    {
     "data": {
      "text/plain": [
       "probability    0.869864\n",
       "word           use     \n",
       "dtype: object"
      ]
     },
     "execution_count": 190,
     "metadata": {},
     "output_type": "execute_result"
    }
   ],
   "source": [
    "topic_words_df.loc[:,['probability','word']].max()"
   ]
  },
  {
   "cell_type": "code",
   "execution_count": 198,
   "metadata": {},
   "outputs": [],
   "source": [
    "from nltk.tokenize import word_tokenize\n",
    "\n",
    "dt=data.description.loc[0][:500]\n",
    "tokens=word_tokenize(dt)"
   ]
  },
  {
   "cell_type": "code",
   "execution_count": 230,
   "metadata": {},
   "outputs": [],
   "source": [
    "topics = lda_train.show_topics(formatted=True,  num_words=20)"
   ]
  },
  {
   "cell_type": "code",
   "execution_count": 243,
   "metadata": {},
   "outputs": [
    {
     "data": {
      "text/plain": [
       "['0.490*\"systems\" + 0.444*\"learning\" + 0.059*\"leverage\" + 0.001*\"machine\" + 0.000*\"data\" + 0.000*\"ai\" + 0.000*\"customers\" + 0.000*\"analyze\" + 0.000*\"use\" + 0.000*\"advanced\" + 0.000*\"processing\" + 0.000*\"analytics\" + 0.000*\"natural\" + 0.000*\"customer\" + 0.000*\"sales\" + 0.000*\"improve\" + 0.000*\"satisfaction\"',\n",
       " '0.490*\"systems\" + 0.444*\"learning\" + 0.059*\"leverage\" + 0.001*\"machine\" + 0.000*\"data\" + 0.000*\"ai\" + 0.000*\"customers\" + 0.000*\"analyze\" + 0.000*\"use\" + 0.000*\"advanced\" + 0.000*\"processing\" + 0.000*\"analytics\" + 0.000*\"natural\" + 0.000*\"customer\" + 0.000*\"sales\" + 0.000*\"improve\" + 0.000*\"satisfaction\"',\n",
       " '0.490*\"systems\" + 0.444*\"learning\" + 0.059*\"leverage\" + 0.001*\"machine\" + 0.000*\"data\" + 0.000*\"ai\" + 0.000*\"customers\" + 0.000*\"analyze\" + 0.000*\"use\" + 0.000*\"advanced\" + 0.000*\"processing\" + 0.000*\"analytics\" + 0.000*\"natural\" + 0.000*\"customer\" + 0.000*\"sales\" + 0.000*\"improve\" + 0.000*\"satisfaction\"']"
      ]
     },
     "execution_count": 243,
     "metadata": {},
     "output_type": "execute_result"
    }
   ],
   "source": [
    "[topics[0][1] for el in lda_train[train_id2word.doc2bow(tokens)]]"
   ]
  },
  {
   "cell_type": "code",
   "execution_count": 226,
   "metadata": {},
   "outputs": [
    {
     "data": {
      "text/html": [
       "<div>\n",
       "<style scoped>\n",
       "    .dataframe tbody tr th:only-of-type {\n",
       "        vertical-align: middle;\n",
       "    }\n",
       "\n",
       "    .dataframe tbody tr th {\n",
       "        vertical-align: top;\n",
       "    }\n",
       "\n",
       "    .dataframe thead th {\n",
       "        text-align: right;\n",
       "    }\n",
       "</style>\n",
       "<table border=\"1\" class=\"dataframe\">\n",
       "  <thead>\n",
       "    <tr style=\"text-align: right;\">\n",
       "      <th></th>\n",
       "      <th>topic #</th>\n",
       "      <th>weight</th>\n",
       "    </tr>\n",
       "  </thead>\n",
       "  <tbody>\n",
       "    <tr>\n",
       "      <th>0</th>\n",
       "      <td>13</td>\n",
       "      <td>0.841667</td>\n",
       "    </tr>\n",
       "    <tr>\n",
       "      <th>1</th>\n",
       "      <td>0</td>\n",
       "      <td>[13]</td>\n",
       "    </tr>\n",
       "    <tr>\n",
       "      <th>2</th>\n",
       "      <td>0</td>\n",
       "      <td>[(13, 0.9999998)]</td>\n",
       "    </tr>\n",
       "  </tbody>\n",
       "</table>\n",
       "</div>"
      ],
      "text/plain": [
       "   topic #             weight\n",
       "0  13       0.841667         \n",
       "1  0        [13]             \n",
       "2  0        [(13, 0.9999998)]"
      ]
     },
     "execution_count": 226,
     "metadata": {},
     "output_type": "execute_result"
    }
   ],
   "source": [
    "pd.DataFrame([(el[0][0], el[0][1]) for el in lda_train[train_id2word.doc2bow(tokens)]], columns=['topic #', 'weight'])"
   ]
  },
  {
   "cell_type": "code",
   "execution_count": 255,
   "metadata": {},
   "outputs": [
    {
     "data": {
      "text/plain": [
       "(122, 17)"
      ]
     },
     "execution_count": 255,
     "metadata": {},
     "output_type": "execute_result"
    }
   ],
   "source": [
    "len(bigram_train),len(train_id2word)"
   ]
  },
  {
   "cell_type": "code",
   "execution_count": 260,
   "metadata": {},
   "outputs": [
    {
     "data": {
      "text/plain": [
       "[(69,\n",
       "  [('improve', 0.058823526),\n",
       "   ('processing', 0.058823526),\n",
       "   ('analytics', 0.058823526),\n",
       "   ('sales', 0.058823526),\n",
       "   ('ai', 0.058823526),\n",
       "   ('learning', 0.058823526),\n",
       "   ('use', 0.058823526),\n",
       "   ('advanced', 0.058823526),\n",
       "   ('customers', 0.058823526),\n",
       "   ('analyze', 0.058823526)]),\n",
       " (63,\n",
       "  [('improve', 0.058823526),\n",
       "   ('processing', 0.058823526),\n",
       "   ('analytics', 0.058823526),\n",
       "   ('sales', 0.058823526),\n",
       "   ('ai', 0.058823526),\n",
       "   ('learning', 0.058823526),\n",
       "   ('use', 0.058823526),\n",
       "   ('advanced', 0.058823526),\n",
       "   ('customers', 0.058823526),\n",
       "   ('analyze', 0.058823526)]),\n",
       " (42,\n",
       "  [('improve', 0.058823526),\n",
       "   ('processing', 0.058823526),\n",
       "   ('analytics', 0.058823526),\n",
       "   ('sales', 0.058823526),\n",
       "   ('ai', 0.058823526),\n",
       "   ('learning', 0.058823526),\n",
       "   ('use', 0.058823526),\n",
       "   ('advanced', 0.058823526),\n",
       "   ('customers', 0.058823526),\n",
       "   ('analyze', 0.058823526)]),\n",
       " (91,\n",
       "  [('improve', 0.058823526),\n",
       "   ('processing', 0.058823526),\n",
       "   ('analytics', 0.058823526),\n",
       "   ('sales', 0.058823526),\n",
       "   ('ai', 0.058823526),\n",
       "   ('learning', 0.058823526),\n",
       "   ('use', 0.058823526),\n",
       "   ('advanced', 0.058823526),\n",
       "   ('customers', 0.058823526),\n",
       "   ('analyze', 0.058823526)]),\n",
       " (9,\n",
       "  [('improve', 0.058823526),\n",
       "   ('processing', 0.058823526),\n",
       "   ('analytics', 0.058823526),\n",
       "   ('sales', 0.058823526),\n",
       "   ('ai', 0.058823526),\n",
       "   ('learning', 0.058823526),\n",
       "   ('use', 0.058823526),\n",
       "   ('advanced', 0.058823526),\n",
       "   ('customers', 0.058823526),\n",
       "   ('analyze', 0.058823526)]),\n",
       " (7,\n",
       "  [('improve', 0.058823526),\n",
       "   ('processing', 0.058823526),\n",
       "   ('analytics', 0.058823526),\n",
       "   ('sales', 0.058823526),\n",
       "   ('ai', 0.058823526),\n",
       "   ('learning', 0.058823526),\n",
       "   ('use', 0.058823526),\n",
       "   ('advanced', 0.058823526),\n",
       "   ('customers', 0.058823526),\n",
       "   ('analyze', 0.058823526)]),\n",
       " (46,\n",
       "  [('improve', 0.058823526),\n",
       "   ('processing', 0.058823526),\n",
       "   ('analytics', 0.058823526),\n",
       "   ('sales', 0.058823526),\n",
       "   ('ai', 0.058823526),\n",
       "   ('learning', 0.058823526),\n",
       "   ('use', 0.058823526),\n",
       "   ('advanced', 0.058823526),\n",
       "   ('customers', 0.058823526),\n",
       "   ('analyze', 0.058823526)]),\n",
       " (31,\n",
       "  [('improve', 0.058823526),\n",
       "   ('processing', 0.058823526),\n",
       "   ('analytics', 0.058823526),\n",
       "   ('sales', 0.058823526),\n",
       "   ('ai', 0.058823526),\n",
       "   ('learning', 0.058823526),\n",
       "   ('use', 0.058823526),\n",
       "   ('advanced', 0.058823526),\n",
       "   ('customers', 0.058823526),\n",
       "   ('analyze', 0.058823526)]),\n",
       " (65,\n",
       "  [('customers', 0.49929556),\n",
       "   ('leverage', 0.49204904),\n",
       "   ('data', 0.00090859015),\n",
       "   ('machine', 0.0005534516),\n",
       "   ('ai', 0.0005534186),\n",
       "   ('learning', 0.0005534186),\n",
       "   ('processing', 0.0005534186),\n",
       "   ('natural', 0.0005534186),\n",
       "   ('analyze', 0.00055329275),\n",
       "   ('systems', 0.00055329275)]),\n",
       " (35,\n",
       "  [('improve', 0.058823526),\n",
       "   ('processing', 0.058823526),\n",
       "   ('analytics', 0.058823526),\n",
       "   ('sales', 0.058823526),\n",
       "   ('ai', 0.058823526),\n",
       "   ('learning', 0.058823526),\n",
       "   ('use', 0.058823526),\n",
       "   ('advanced', 0.058823526),\n",
       "   ('customers', 0.058823526),\n",
       "   ('analyze', 0.058823526)])]"
      ]
     },
     "execution_count": 260,
     "metadata": {},
     "output_type": "execute_result"
    }
   ],
   "source": [
    "lda_train.show_topics(formatted=False)"
   ]
  },
  {
   "cell_type": "code",
   "execution_count": 258,
   "metadata": {},
   "outputs": [
    {
     "ename": "ValueError",
     "evalue": "Length of values does not match length of index",
     "output_type": "error",
     "traceback": [
      "\u001b[1;31m---------------------------------------------------------------------------\u001b[0m",
      "\u001b[1;31mValueError\u001b[0m                                Traceback (most recent call last)",
      "\u001b[1;32m<ipython-input-258-033370226a23>\u001b[0m in \u001b[0;36m<module>\u001b[1;34m\u001b[0m\n\u001b[1;32m----> 1\u001b[1;33m \u001b[0mdata\u001b[0m\u001b[1;33m[\u001b[0m\u001b[1;34m'topics'\u001b[0m\u001b[1;33m]\u001b[0m\u001b[1;33m=\u001b[0m\u001b[0mtopic_words\u001b[0m\u001b[1;33m\u001b[0m\u001b[1;33m\u001b[0m\u001b[0m\n\u001b[0m",
      "\u001b[1;32m~\\anaconda3\\lib\\site-packages\\pandas\\core\\frame.py\u001b[0m in \u001b[0;36m__setitem__\u001b[1;34m(self, key, value)\u001b[0m\n\u001b[0;32m   2936\u001b[0m         \u001b[1;32melse\u001b[0m\u001b[1;33m:\u001b[0m\u001b[1;33m\u001b[0m\u001b[1;33m\u001b[0m\u001b[0m\n\u001b[0;32m   2937\u001b[0m             \u001b[1;31m# set column\u001b[0m\u001b[1;33m\u001b[0m\u001b[1;33m\u001b[0m\u001b[1;33m\u001b[0m\u001b[0m\n\u001b[1;32m-> 2938\u001b[1;33m             \u001b[0mself\u001b[0m\u001b[1;33m.\u001b[0m\u001b[0m_set_item\u001b[0m\u001b[1;33m(\u001b[0m\u001b[0mkey\u001b[0m\u001b[1;33m,\u001b[0m \u001b[0mvalue\u001b[0m\u001b[1;33m)\u001b[0m\u001b[1;33m\u001b[0m\u001b[1;33m\u001b[0m\u001b[0m\n\u001b[0m\u001b[0;32m   2939\u001b[0m \u001b[1;33m\u001b[0m\u001b[0m\n\u001b[0;32m   2940\u001b[0m     \u001b[1;32mdef\u001b[0m \u001b[0m_setitem_slice\u001b[0m\u001b[1;33m(\u001b[0m\u001b[0mself\u001b[0m\u001b[1;33m,\u001b[0m \u001b[0mkey\u001b[0m\u001b[1;33m,\u001b[0m \u001b[0mvalue\u001b[0m\u001b[1;33m)\u001b[0m\u001b[1;33m:\u001b[0m\u001b[1;33m\u001b[0m\u001b[1;33m\u001b[0m\u001b[0m\n",
      "\u001b[1;32m~\\anaconda3\\lib\\site-packages\\pandas\\core\\frame.py\u001b[0m in \u001b[0;36m_set_item\u001b[1;34m(self, key, value)\u001b[0m\n\u001b[0;32m   2998\u001b[0m \u001b[1;33m\u001b[0m\u001b[0m\n\u001b[0;32m   2999\u001b[0m         \u001b[0mself\u001b[0m\u001b[1;33m.\u001b[0m\u001b[0m_ensure_valid_index\u001b[0m\u001b[1;33m(\u001b[0m\u001b[0mvalue\u001b[0m\u001b[1;33m)\u001b[0m\u001b[1;33m\u001b[0m\u001b[1;33m\u001b[0m\u001b[0m\n\u001b[1;32m-> 3000\u001b[1;33m         \u001b[0mvalue\u001b[0m \u001b[1;33m=\u001b[0m \u001b[0mself\u001b[0m\u001b[1;33m.\u001b[0m\u001b[0m_sanitize_column\u001b[0m\u001b[1;33m(\u001b[0m\u001b[0mkey\u001b[0m\u001b[1;33m,\u001b[0m \u001b[0mvalue\u001b[0m\u001b[1;33m)\u001b[0m\u001b[1;33m\u001b[0m\u001b[1;33m\u001b[0m\u001b[0m\n\u001b[0m\u001b[0;32m   3001\u001b[0m         \u001b[0mNDFrame\u001b[0m\u001b[1;33m.\u001b[0m\u001b[0m_set_item\u001b[0m\u001b[1;33m(\u001b[0m\u001b[0mself\u001b[0m\u001b[1;33m,\u001b[0m \u001b[0mkey\u001b[0m\u001b[1;33m,\u001b[0m \u001b[0mvalue\u001b[0m\u001b[1;33m)\u001b[0m\u001b[1;33m\u001b[0m\u001b[1;33m\u001b[0m\u001b[0m\n\u001b[0;32m   3002\u001b[0m \u001b[1;33m\u001b[0m\u001b[0m\n",
      "\u001b[1;32m~\\anaconda3\\lib\\site-packages\\pandas\\core\\frame.py\u001b[0m in \u001b[0;36m_sanitize_column\u001b[1;34m(self, key, value, broadcast)\u001b[0m\n\u001b[0;32m   3634\u001b[0m \u001b[1;33m\u001b[0m\u001b[0m\n\u001b[0;32m   3635\u001b[0m             \u001b[1;31m# turn me into an ndarray\u001b[0m\u001b[1;33m\u001b[0m\u001b[1;33m\u001b[0m\u001b[1;33m\u001b[0m\u001b[0m\n\u001b[1;32m-> 3636\u001b[1;33m             \u001b[0mvalue\u001b[0m \u001b[1;33m=\u001b[0m \u001b[0msanitize_index\u001b[0m\u001b[1;33m(\u001b[0m\u001b[0mvalue\u001b[0m\u001b[1;33m,\u001b[0m \u001b[0mself\u001b[0m\u001b[1;33m.\u001b[0m\u001b[0mindex\u001b[0m\u001b[1;33m,\u001b[0m \u001b[0mcopy\u001b[0m\u001b[1;33m=\u001b[0m\u001b[1;32mFalse\u001b[0m\u001b[1;33m)\u001b[0m\u001b[1;33m\u001b[0m\u001b[1;33m\u001b[0m\u001b[0m\n\u001b[0m\u001b[0;32m   3637\u001b[0m             \u001b[1;32mif\u001b[0m \u001b[1;32mnot\u001b[0m \u001b[0misinstance\u001b[0m\u001b[1;33m(\u001b[0m\u001b[0mvalue\u001b[0m\u001b[1;33m,\u001b[0m \u001b[1;33m(\u001b[0m\u001b[0mnp\u001b[0m\u001b[1;33m.\u001b[0m\u001b[0mndarray\u001b[0m\u001b[1;33m,\u001b[0m \u001b[0mIndex\u001b[0m\u001b[1;33m)\u001b[0m\u001b[1;33m)\u001b[0m\u001b[1;33m:\u001b[0m\u001b[1;33m\u001b[0m\u001b[1;33m\u001b[0m\u001b[0m\n\u001b[0;32m   3638\u001b[0m                 \u001b[1;32mif\u001b[0m \u001b[0misinstance\u001b[0m\u001b[1;33m(\u001b[0m\u001b[0mvalue\u001b[0m\u001b[1;33m,\u001b[0m \u001b[0mlist\u001b[0m\u001b[1;33m)\u001b[0m \u001b[1;32mand\u001b[0m \u001b[0mlen\u001b[0m\u001b[1;33m(\u001b[0m\u001b[0mvalue\u001b[0m\u001b[1;33m)\u001b[0m \u001b[1;33m>\u001b[0m \u001b[1;36m0\u001b[0m\u001b[1;33m:\u001b[0m\u001b[1;33m\u001b[0m\u001b[1;33m\u001b[0m\u001b[0m\n",
      "\u001b[1;32m~\\anaconda3\\lib\\site-packages\\pandas\\core\\internals\\construction.py\u001b[0m in \u001b[0;36msanitize_index\u001b[1;34m(data, index, copy)\u001b[0m\n\u001b[0;32m    609\u001b[0m \u001b[1;33m\u001b[0m\u001b[0m\n\u001b[0;32m    610\u001b[0m     \u001b[1;32mif\u001b[0m \u001b[0mlen\u001b[0m\u001b[1;33m(\u001b[0m\u001b[0mdata\u001b[0m\u001b[1;33m)\u001b[0m \u001b[1;33m!=\u001b[0m \u001b[0mlen\u001b[0m\u001b[1;33m(\u001b[0m\u001b[0mindex\u001b[0m\u001b[1;33m)\u001b[0m\u001b[1;33m:\u001b[0m\u001b[1;33m\u001b[0m\u001b[1;33m\u001b[0m\u001b[0m\n\u001b[1;32m--> 611\u001b[1;33m         \u001b[1;32mraise\u001b[0m \u001b[0mValueError\u001b[0m\u001b[1;33m(\u001b[0m\u001b[1;34m\"Length of values does not match length of index\"\u001b[0m\u001b[1;33m)\u001b[0m\u001b[1;33m\u001b[0m\u001b[1;33m\u001b[0m\u001b[0m\n\u001b[0m\u001b[0;32m    612\u001b[0m \u001b[1;33m\u001b[0m\u001b[0m\n\u001b[0;32m    613\u001b[0m     \u001b[1;32mif\u001b[0m \u001b[0misinstance\u001b[0m\u001b[1;33m(\u001b[0m\u001b[0mdata\u001b[0m\u001b[1;33m,\u001b[0m \u001b[0mABCIndexClass\u001b[0m\u001b[1;33m)\u001b[0m \u001b[1;32mand\u001b[0m \u001b[1;32mnot\u001b[0m \u001b[0mcopy\u001b[0m\u001b[1;33m:\u001b[0m\u001b[1;33m\u001b[0m\u001b[1;33m\u001b[0m\u001b[0m\n",
      "\u001b[1;31mValueError\u001b[0m: Length of values does not match length of index"
     ]
    }
   ],
   "source": [
    "data['topics']=topic_words"
   ]
  },
  {
   "cell_type": "code",
   "execution_count": 257,
   "metadata": {},
   "outputs": [
    {
     "data": {
      "text/html": [
       "<div>\n",
       "<style scoped>\n",
       "    .dataframe tbody tr th:only-of-type {\n",
       "        vertical-align: middle;\n",
       "    }\n",
       "\n",
       "    .dataframe tbody tr th {\n",
       "        vertical-align: top;\n",
       "    }\n",
       "\n",
       "    .dataframe thead th {\n",
       "        text-align: right;\n",
       "    }\n",
       "</style>\n",
       "<table border=\"1\" class=\"dataframe\">\n",
       "  <thead>\n",
       "    <tr style=\"text-align: right;\">\n",
       "      <th></th>\n",
       "      <th>id</th>\n",
       "      <th>name</th>\n",
       "      <th>description</th>\n",
       "      <th>metrics</th>\n",
       "      <th>industries</th>\n",
       "      <th>created_at</th>\n",
       "      <th>updated_at</th>\n",
       "      <th>function</th>\n",
       "      <th>topics</th>\n",
       "    </tr>\n",
       "  </thead>\n",
       "  <tbody>\n",
       "    <tr>\n",
       "      <th>0</th>\n",
       "      <td>493</td>\n",
       "      <td>Retargeting</td>\n",
       "      <td>Retarget customers who have already expressed interest in your products or services</td>\n",
       "      <td>Cash flow\\nReturn on marketing investment (ROMI)</td>\n",
       "      <td>Broadcasting\\nFilm Distribution\\nMedia and Entertainment\\nEnterprise Software\\nFinTech\\nBanking\\nFinancial Services\\nArt\\nHome Decor\\nFashion\\nE-Commerce\\nRecruiting\\nDelivery\\nFood and Beverage\\nE-Commerce\\nFood Processing\\nLifestyle\\nDietary Supplements\\nE-Commerce\\nAI Tools\\nSupply Chain Management\\nMarketplace\\nAnalytics\\nB2B\\nImage Recognition\\nDigital Media\\nPhotography\\nPredictive Analytics\\nSEO\\nAdvertising\\nDirect Marketing\\nEmail Marketing\\nE-Commerce\\nAnalytics\\nEvents\\nTicketing\\nInternet\\nTravel\\nFashion\\nShopping\\nE-Commerce\\nLifestyle\\nFurniture\\nFashion\\nE-Commerce\\nFashion\\nE-Commerce\\nFitness\\nCooking\\nHospitality\\nMobile\\nPersonalization\\nFashion\\nE-Commerce\\nJewelry\\nLifestyle\\nCustomer Service\\nRetail Technology\\nInternet\\nE-Commerce\\nFashion\\nManufacturing\\nInternet\\nE-Commerce\\nRetail\\nTelecommunications\\nRetail\\nMobile Devices\\nCustomer Service\\nLifestyle\\nFashion\\nRetail Technology\\nSoftware Solutions\\nE-Commerce\\nRetail\\nRetail\\nOpen Source\\nSoftware Solutions\\nHardware\\nDIY\\n3D Printing\\nReal Estate\\nClassifieds\\nE-Commerce\\nNews</td>\n",
       "      <td>2020-02-03T15:08:21.159Z</td>\n",
       "      <td>2020-02-03T15:08:21.159Z</td>\n",
       "      <td>Marketing</td>\n",
       "      <td>sales</td>\n",
       "    </tr>\n",
       "    <tr>\n",
       "      <th>1</th>\n",
       "      <td>494</td>\n",
       "      <td>Recommendation engine</td>\n",
       "      <td>Also called recommendation personalization system or recommendation system, these systems leverage customer data to retain and upgrade customers with personalized recommendations via email, site search or other channels</td>\n",
       "      <td>Cash flow\\nReturn on marketing investment (ROMI)\\nEngagement &amp; conversion\\nB2C sales</td>\n",
       "      <td>Search Engine\\nRetail\\nShopping\\nE-Commerce\\nLifestyle\\nFashion\\nRetail\\nFashion\\nWomen's\\nBeauty\\nCosmetics\\nRetail\\nE-Commerce\\nFashion</td>\n",
       "      <td>2020-02-03T15:08:21.212Z</td>\n",
       "      <td>2020-02-03T15:08:21.212Z</td>\n",
       "      <td>Marketing</td>\n",
       "      <td>customer</td>\n",
       "    </tr>\n",
       "    <tr>\n",
       "      <th>2</th>\n",
       "      <td>495</td>\n",
       "      <td>Social analytics &amp; automation</td>\n",
       "      <td>Leverage Natural Language Processing and machine vision to analyze and act upon all content generated by your actual or potential customers on social media, surveys and reviews</td>\n",
       "      <td>Customer service effectiveness\\nNet Promoter Score (NPS)</td>\n",
       "      <td>Cloud Computing\\nSoftware Solutions\\nInformation Technology\\nWeb Hosting\\nIaaS\\nManufacturing\\nAutomotive\\nTransportation\\nVenture Capital\\nFinance\\nAngel Investment\\nSocial Media\\nMarketing\\nAdvertising\\nBusiness Information Systems\\nBusiness Intelligence\\nInternet\\nAdvertising\\nTest and Measurement\\nVending and Concessions</td>\n",
       "      <td>2020-02-03T15:08:21.249Z</td>\n",
       "      <td>2020-02-03T15:08:21.249Z</td>\n",
       "      <td>Marketing</td>\n",
       "      <td>processing</td>\n",
       "    </tr>\n",
       "    <tr>\n",
       "      <th>3</th>\n",
       "      <td>496</td>\n",
       "      <td>Product Information Management</td>\n",
       "      <td>Manage and improve all your product information centrally to improve product discoverability and appeal</td>\n",
       "      <td>Return on marketing investment (ROMI)</td>\n",
       "      <td>Communications Infrastructure\\nHardware\\nEnterprise Software\\nVenture Capital\\nFinance\\nAngel Investment\\nE-Commerce Platforms\\nFashion\\nBeauty\\nRetail\\nE-Commerce\\nRetail Technology</td>\n",
       "      <td>2020-02-03T15:08:21.270Z</td>\n",
       "      <td>2020-02-03T15:08:21.270Z</td>\n",
       "      <td>Marketing</td>\n",
       "      <td>improve</td>\n",
       "    </tr>\n",
       "    <tr>\n",
       "      <th>4</th>\n",
       "      <td>497</td>\n",
       "      <td>Marketing analytics</td>\n",
       "      <td>Connect all your marketing data and KPIs automatically. Empower your teams to complete and share their advanced analysis with ease. Act on your data to manage campaigns, trigger alerts and improve your marketing efficiency</td>\n",
       "      <td>Return on marketing investment (ROMI)</td>\n",
       "      <td>Software Solutions\\nCollaboration\\nCRM\\nData Storage\\nHardware\\nVirtualization\\nFlash Storage\\nEnterprise Software\\nMarketing Automation\\nAdvertising\\nTelecommunications</td>\n",
       "      <td>2020-02-03T15:08:21.291Z</td>\n",
       "      <td>2020-02-03T15:08:21.291Z</td>\n",
       "      <td>Marketing</td>\n",
       "      <td>leverage</td>\n",
       "    </tr>\n",
       "  </tbody>\n",
       "</table>\n",
       "</div>"
      ],
      "text/plain": [
       "    id                            name  \\\n",
       "0  493  Retargeting                      \n",
       "1  494  Recommendation engine            \n",
       "2  495  Social analytics & automation    \n",
       "3  496  Product Information Management   \n",
       "4  497  Marketing analytics              \n",
       "\n",
       "                                                                                                                                                                                                                      description  \\\n",
       "0  Retarget customers who have already expressed interest in your products or services                                                                                                                                              \n",
       "1  Also called recommendation personalization system or recommendation system, these systems leverage customer data to retain and upgrade customers with personalized recommendations via email, site search or other channels      \n",
       "2  Leverage Natural Language Processing and machine vision to analyze and act upon all content generated by your actual or potential customers on social media, surveys and reviews                                                 \n",
       "3  Manage and improve all your product information centrally to improve product discoverability and appeal                                                                                                                          \n",
       "4  Connect all your marketing data and KPIs automatically. Empower your teams to complete and share their advanced analysis with ease. Act on your data to manage campaigns, trigger alerts and improve your marketing efficiency   \n",
       "\n",
       "                                                                                metrics  \\\n",
       "0  Cash flow\\nReturn on marketing investment (ROMI)                                       \n",
       "1  Cash flow\\nReturn on marketing investment (ROMI)\\nEngagement & conversion\\nB2C sales   \n",
       "2  Customer service effectiveness\\nNet Promoter Score (NPS)                               \n",
       "3  Return on marketing investment (ROMI)                                                  \n",
       "4  Return on marketing investment (ROMI)                                                  \n",
       "\n",
       "                                                                                                                                                                                                                                                                                                                                                                                                                                                                                                                                                                                                                                                                                                                                                                                                                                                                                                                                                                                                                                                                                                         industries  \\\n",
       "0  Broadcasting\\nFilm Distribution\\nMedia and Entertainment\\nEnterprise Software\\nFinTech\\nBanking\\nFinancial Services\\nArt\\nHome Decor\\nFashion\\nE-Commerce\\nRecruiting\\nDelivery\\nFood and Beverage\\nE-Commerce\\nFood Processing\\nLifestyle\\nDietary Supplements\\nE-Commerce\\nAI Tools\\nSupply Chain Management\\nMarketplace\\nAnalytics\\nB2B\\nImage Recognition\\nDigital Media\\nPhotography\\nPredictive Analytics\\nSEO\\nAdvertising\\nDirect Marketing\\nEmail Marketing\\nE-Commerce\\nAnalytics\\nEvents\\nTicketing\\nInternet\\nTravel\\nFashion\\nShopping\\nE-Commerce\\nLifestyle\\nFurniture\\nFashion\\nE-Commerce\\nFashion\\nE-Commerce\\nFitness\\nCooking\\nHospitality\\nMobile\\nPersonalization\\nFashion\\nE-Commerce\\nJewelry\\nLifestyle\\nCustomer Service\\nRetail Technology\\nInternet\\nE-Commerce\\nFashion\\nManufacturing\\nInternet\\nE-Commerce\\nRetail\\nTelecommunications\\nRetail\\nMobile Devices\\nCustomer Service\\nLifestyle\\nFashion\\nRetail Technology\\nSoftware Solutions\\nE-Commerce\\nRetail\\nRetail\\nOpen Source\\nSoftware Solutions\\nHardware\\nDIY\\n3D Printing\\nReal Estate\\nClassifieds\\nE-Commerce\\nNews   \n",
       "1  Search Engine\\nRetail\\nShopping\\nE-Commerce\\nLifestyle\\nFashion\\nRetail\\nFashion\\nWomen's\\nBeauty\\nCosmetics\\nRetail\\nE-Commerce\\nFashion                                                                                                                                                                                                                                                                                                                                                                                                                                                                                                                                                                                                                                                                                                                                                                                                                                                                                                                                                                          \n",
       "2  Cloud Computing\\nSoftware Solutions\\nInformation Technology\\nWeb Hosting\\nIaaS\\nManufacturing\\nAutomotive\\nTransportation\\nVenture Capital\\nFinance\\nAngel Investment\\nSocial Media\\nMarketing\\nAdvertising\\nBusiness Information Systems\\nBusiness Intelligence\\nInternet\\nAdvertising\\nTest and Measurement\\nVending and Concessions                                                                                                                                                                                                                                                                                                                                                                                                                                                                                                                                                                                                                                                                                                                                                                             \n",
       "3  Communications Infrastructure\\nHardware\\nEnterprise Software\\nVenture Capital\\nFinance\\nAngel Investment\\nE-Commerce Platforms\\nFashion\\nBeauty\\nRetail\\nE-Commerce\\nRetail Technology                                                                                                                                                                                                                                                                                                                                                                                                                                                                                                                                                                                                                                                                                                                                                                                                                                                                                                                             \n",
       "4  Software Solutions\\nCollaboration\\nCRM\\nData Storage\\nHardware\\nVirtualization\\nFlash Storage\\nEnterprise Software\\nMarketing Automation\\nAdvertising\\nTelecommunications                                                                                                                                                                                                                                                                                                                                                                                                                                                                                                                                                                                                                                                                                                                                                                                                                                                                                                                                          \n",
       "\n",
       "                 created_at                updated_at   function      topics  \n",
       "0  2020-02-03T15:08:21.159Z  2020-02-03T15:08:21.159Z  Marketing  sales       \n",
       "1  2020-02-03T15:08:21.212Z  2020-02-03T15:08:21.212Z  Marketing  customer    \n",
       "2  2020-02-03T15:08:21.249Z  2020-02-03T15:08:21.249Z  Marketing  processing  \n",
       "3  2020-02-03T15:08:21.270Z  2020-02-03T15:08:21.270Z  Marketing  improve     \n",
       "4  2020-02-03T15:08:21.291Z  2020-02-03T15:08:21.291Z  Marketing  leverage    "
      ]
     },
     "execution_count": 257,
     "metadata": {},
     "output_type": "execute_result"
    }
   ],
   "source": [
    "data.head()"
   ]
  },
  {
   "cell_type": "code",
   "execution_count": 70,
   "metadata": {},
   "outputs": [],
   "source": [
    "topics_list=lda_train.print_topics(20,num_words=15)[:10]"
   ]
  },
  {
   "cell_type": "markdown",
   "metadata": {},
   "source": [
    "### testing model with new unknown data"
   ]
  },
  {
   "cell_type": "code",
   "execution_count": 64,
   "metadata": {},
   "outputs": [],
   "source": [
    "def get_bigram(df):\n",
    "    \"\"\"\n",
    "    For the test data we only need the bigram data. This is a requirement due to \n",
    "    the shapes Gensim functions expect in the test-vector transformation below.\n",
    "    With both these in hand, we can make the test corpus.\n",
    "    \"\"\"\n",
    "    df['text'] = strip_newline(df)\n",
    "    words = list(sent_to_words(df.text))\n",
    "    words = remove_stopwords(words)\n",
    "    bigram = bigrams(words)\n",
    "    bigram = [bigram[review] for review in words]\n",
    "#     lemma = lemmatization(bigram)\n",
    "    return bigram"
   ]
  },
  {
   "cell_type": "code",
   "execution_count": 94,
   "metadata": {},
   "outputs": [],
   "source": [
    "#input text to test\n",
    "test_data=pd.Series('customer improve data satisfaction customers reduce advanced increase efficiency manage uncover passwords insights marketing analyze measure analytics efforts transfer media motivation needed intelligent teams driving bots track learn provide effectively functioning costs trigger personnel optimize improving unless traffic solutions performance agents 24/7 live language multilayared context mining leads handle suggesting logistics garbage pricing understand time issues products dynamic high self employees vehicles cobots medical video legacy create best save personalize label increasing measurement numerous mature retain companies brand flexible real content personal scale operations business unsupervised machine scan protect called effectiveness need intelligence minimize text quickly vision users mimicking autonomous value prices message leverage train triage operate natural phone tools learning voice-controlled transformations matter thousands weeks topic using services generated sales quality overcharged merchandising processing monitor auto patient method emails processes offline page optimization systems')"
   ]
  },
  {
   "cell_type": "code",
   "execution_count": 95,
   "metadata": {},
   "outputs": [],
   "source": [
    "#get bigrams from test data\n",
    "bigram_test=get_bigram(test_data)"
   ]
  },
  {
   "cell_type": "code",
   "execution_count": 96,
   "metadata": {},
   "outputs": [],
   "source": [
    "#get lda model form traning \n",
    "lda_train = gensim.models.ldamulticore.LdaMulticore.load('lda_train.model')"
   ]
  },
  {
   "cell_type": "code",
   "execution_count": 97,
   "metadata": {},
   "outputs": [],
   "source": [
    "# build bow from bigram text data\n",
    "test_corpus = [train_id2word.doc2bow(text) for text in bigram_test]"
   ]
  },
  {
   "cell_type": "code",
   "execution_count": 98,
   "metadata": {},
   "outputs": [],
   "source": [
    "#get text vectors\n",
    "test_vecs = []\n",
    "for i in range(len(test_data)-1):\n",
    "    top_topics = lda_train.get_document_topics(test_corpus[i], minimum_probability=0.0)\n",
    "    topic_vec = [top_topics[i][1] for i in range(20)]\n",
    "    #topic_vec.extend([test_data.iloc[i].real_counts]) # counts of reviews for restaurant\n",
    "    #topic_vec.extend([len(test_data.iloc[i].text)]) # length review\n",
    "    test_vecs.append(topic_vec)"
   ]
  },
  {
   "cell_type": "code",
   "execution_count": 99,
   "metadata": {},
   "outputs": [
    {
     "data": {
      "text/plain": [
       "array(['Healthtech'], dtype='<U17')"
      ]
     },
     "execution_count": 99,
     "metadata": {},
     "output_type": "execute_result"
    }
   ],
   "source": [
    " #predict the target function on test/unknown data\n",
    "sgd_huber.predict(test_vecs)"
   ]
  },
  {
   "cell_type": "code",
   "execution_count": null,
   "metadata": {},
   "outputs": [],
   "source": []
  }
 ],
 "metadata": {
  "kernelspec": {
   "display_name": "Python 3",
   "language": "python",
   "name": "python3"
  },
  "language_info": {
   "codemirror_mode": {
    "name": "ipython",
    "version": 3
   },
   "file_extension": ".py",
   "mimetype": "text/x-python",
   "name": "python",
   "nbconvert_exporter": "python",
   "pygments_lexer": "ipython3",
   "version": "3.7.6"
  }
 },
 "nbformat": 4,
 "nbformat_minor": 4
}
